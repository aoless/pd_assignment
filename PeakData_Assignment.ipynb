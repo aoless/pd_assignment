{
  "nbformat": 4,
  "nbformat_minor": 0,
  "metadata": {
    "colab": {
      "name": "PeakData Assignment.ipynb",
      "provenance": [],
      "collapsed_sections": []
    },
    "kernelspec": {
      "display_name": "Python 3",
      "name": "python3"
    },
    "language_info": {
      "name": "python"
    }
  },
  "cells": [
    {
      "cell_type": "markdown",
      "metadata": {
        "id": "RTCrKpzqculd"
      },
      "source": [
        "# **Hiring assignment**\n",
        "## Find list of unique authors and institutions form publications dataset"
      ]
    },
    {
      "cell_type": "code",
      "metadata": {
        "colab": {
          "base_uri": "https://localhost:8080/"
        },
        "id": "-nMB-0S8Ll_L",
        "outputId": "4bde3939-2050-4246-cc95-c1ccb9cf9457"
      },
      "source": [
        "# Run this cell if working in Colab envinronment\n",
        "try:\n",
        "  %pycountry\n",
        "except Exception:\n",
        "  !pip install pycountry"
      ],
      "execution_count": 1,
      "outputs": [
        {
          "output_type": "stream",
          "text": [
            "Collecting pycountry\n",
            "\u001b[?25l  Downloading https://files.pythonhosted.org/packages/76/73/6f1a412f14f68c273feea29a6ea9b9f1e268177d32e0e69ad6790d306312/pycountry-20.7.3.tar.gz (10.1MB)\n",
            "\u001b[K     |████████████████████████████████| 10.1MB 7.6MB/s \n",
            "\u001b[?25hBuilding wheels for collected packages: pycountry\n",
            "  Building wheel for pycountry (setup.py) ... \u001b[?25l\u001b[?25hdone\n",
            "  Created wheel for pycountry: filename=pycountry-20.7.3-py2.py3-none-any.whl size=10746883 sha256=7f613bcfb875d7bd5200a405432d9df10c9ff9be4090ea29ca83875ee472b35b\n",
            "  Stored in directory: /root/.cache/pip/wheels/33/4e/a6/be297e6b83567e537bed9df4a93f8590ec01c1acfbcd405348\n",
            "Successfully built pycountry\n",
            "Installing collected packages: pycountry\n",
            "Successfully installed pycountry-20.7.3\n"
          ],
          "name": "stdout"
        }
      ]
    },
    {
      "cell_type": "code",
      "metadata": {
        "id": "6d-DxPrRH0vJ"
      },
      "source": [
        "import itertools\n",
        "import matplotlib.pyplot as plt\n",
        "import numpy as np\n",
        "import pandas as pd\n",
        "import random\n",
        "import re\n",
        "import seaborn as sns\n",
        "\n",
        "import pycountry\n",
        "\n",
        "from difflib import SequenceMatcher\n",
        "from gensim.parsing.preprocessing import strip_non_alphanum"
      ],
      "execution_count": 2,
      "outputs": []
    },
    {
      "cell_type": "code",
      "metadata": {
        "id": "DEIGc5nrIp34"
      },
      "source": [
        "!gzip -d \"./publications_min.csv.gz\""
      ],
      "execution_count": 3,
      "outputs": []
    },
    {
      "cell_type": "markdown",
      "metadata": {
        "id": "fMEqz-sKebpb"
      },
      "source": [
        "### Read dataset"
      ]
    },
    {
      "cell_type": "code",
      "metadata": {
        "colab": {
          "base_uri": "https://localhost:8080/",
          "height": 806
        },
        "id": "0hI7KuOHIsQg",
        "outputId": "b7b3b4c1-4526-4726-cb5f-8058160f172a"
      },
      "source": [
        "publications_df = pd.read_csv(\"publications_min.csv\", index_col=0)\n",
        "publications_df"
      ],
      "execution_count": 4,
      "outputs": [
        {
          "output_type": "execute_result",
          "data": {
            "text/html": [
              "<div>\n",
              "<style scoped>\n",
              "    .dataframe tbody tr th:only-of-type {\n",
              "        vertical-align: middle;\n",
              "    }\n",
              "\n",
              "    .dataframe tbody tr th {\n",
              "        vertical-align: top;\n",
              "    }\n",
              "\n",
              "    .dataframe thead th {\n",
              "        text-align: right;\n",
              "    }\n",
              "</style>\n",
              "<table border=\"1\" class=\"dataframe\">\n",
              "  <thead>\n",
              "    <tr style=\"text-align: right;\">\n",
              "      <th></th>\n",
              "      <th>temp_id</th>\n",
              "      <th>abstract</th>\n",
              "      <th>title</th>\n",
              "      <th>pubdate</th>\n",
              "      <th>journal</th>\n",
              "      <th>affiliations</th>\n",
              "      <th>publication_uuid</th>\n",
              "      <th>authors</th>\n",
              "    </tr>\n",
              "  </thead>\n",
              "  <tbody>\n",
              "    <tr>\n",
              "      <th>0</th>\n",
              "      <td>0</td>\n",
              "      <td>The pulmonary effects of hyperventilation foll...</td>\n",
              "      <td>Acute respiratory failure following pharmacolo...</td>\n",
              "      <td>1988-01-01 00:00:00</td>\n",
              "      <td>Intensive care medicine, Issue: 1, Volume: 15 ...</td>\n",
              "      <td>National Institutes of Health, Laboratory of T...</td>\n",
              "      <td>0.0</td>\n",
              "      <td>['D Mascheroni', 'T Kolobow', 'R Fumagalli', '...</td>\n",
              "    </tr>\n",
              "    <tr>\n",
              "      <th>1</th>\n",
              "      <td>1</td>\n",
              "      <td>Ten patients with acute respiratory failure (A...</td>\n",
              "      <td>Morphological response to positive end expirat...</td>\n",
              "      <td>1986-01-01 00:00:00</td>\n",
              "      <td>Intensive care medicine, Issue: 3, Volume: 12 ...</td>\n",
              "      <td>, , , , , , , , ,</td>\n",
              "      <td>1.0</td>\n",
              "      <td>['L Gattinoni', 'D Mascheroni', 'A Torresin', ...</td>\n",
              "    </tr>\n",
              "    <tr>\n",
              "      <th>2</th>\n",
              "      <td>2</td>\n",
              "      <td>A group of 36 patients with severe adult respi...</td>\n",
              "      <td>The role of total static lung compliance in th...</td>\n",
              "      <td>1984-01-01 00:00:00</td>\n",
              "      <td>Intensive care medicine, Issue: 3, Volume: 10 ...</td>\n",
              "      <td>, , , , , , , , ,</td>\n",
              "      <td>2.0</td>\n",
              "      <td>['L Gattinoni', 'A Pesenti', 'M L Caspani', 'A...</td>\n",
              "    </tr>\n",
              "    <tr>\n",
              "      <th>3</th>\n",
              "      <td>3</td>\n",
              "      <td>Functional residual capacity (FRC) was measure...</td>\n",
              "      <td>Perioperative changes in functional residual c...</td>\n",
              "      <td>1988-04-01 00:00:00</td>\n",
              "      <td>British journal of anaesthesia, Issue: 5, Volu...</td>\n",
              "      <td>Istituto di Anestesiologia e Rianimazione, Uni...</td>\n",
              "      <td>3.0</td>\n",
              "      <td>['G Damia', 'D Mascheroni', 'M Croci', 'L Tare...</td>\n",
              "    </tr>\n",
              "    <tr>\n",
              "      <th>4</th>\n",
              "      <td>4</td>\n",
              "      <td>NaN</td>\n",
              "      <td>ECMO revisited.</td>\n",
              "      <td>1987-01-01 00:00:00</td>\n",
              "      <td>The International journal of artificial organs...</td>\n",
              "      <td>, , , , , , , ,</td>\n",
              "      <td>4.0</td>\n",
              "      <td>['T Kolobow', 'L Gattinoni', 'A Pesenti', 'M S...</td>\n",
              "    </tr>\n",
              "    <tr>\n",
              "      <th>...</th>\n",
              "      <td>...</td>\n",
              "      <td>...</td>\n",
              "      <td>...</td>\n",
              "      <td>...</td>\n",
              "      <td>...</td>\n",
              "      <td>...</td>\n",
              "      <td>...</td>\n",
              "      <td>...</td>\n",
              "    </tr>\n",
              "    <tr>\n",
              "      <th>9995</th>\n",
              "      <td>9995</td>\n",
              "      <td>Global demethylation of DNA which marks the on...</td>\n",
              "      <td>Hypomethylation of paternal DNA in the late mo...</td>\n",
              "      <td>2008-03-04 09:00:00</td>\n",
              "      <td>The International journal of developmental bio...</td>\n",
              "      <td>Department of Developmental Biology, Max Planc...</td>\n",
              "      <td>9995.0</td>\n",
              "      <td>['Zbigniew Polanski', 'Nami Motosugi', 'Chizuk...</td>\n",
              "    </tr>\n",
              "    <tr>\n",
              "      <th>9996</th>\n",
              "      <td>9996</td>\n",
              "      <td>NaN</td>\n",
              "      <td>The diagnostic challenge of a vitamin K antago...</td>\n",
              "      <td>2017-05-17 06:00:00</td>\n",
              "      <td>British journal of anaesthesia, Issue: 5, Volu...</td>\n",
              "      <td>Vienna, Austria., Vienna, Austria., Vienna, Au...</td>\n",
              "      <td>9996.0</td>\n",
              "      <td>['A Pausch', 'St Koch', 'M Frossard', 'M Wiege...</td>\n",
              "    </tr>\n",
              "    <tr>\n",
              "      <th>9997</th>\n",
              "      <td>9997</td>\n",
              "      <td>Risk factors for early bleeding complications ...</td>\n",
              "      <td>Risk factors for early bleeding complications ...</td>\n",
              "      <td>2019-08-14 06:00:00</td>\n",
              "      <td>Transplant international : official journal of...</td>\n",
              "      <td>Division of Cardiac Thoracic Vascular Anesthes...</td>\n",
              "      <td>9997.0</td>\n",
              "      <td>['Dieter Adelmann', 'Stefan Koch', 'Johannes M...</td>\n",
              "    </tr>\n",
              "    <tr>\n",
              "      <th>9998</th>\n",
              "      <td>9998</td>\n",
              "      <td>In the retina, chemical and electrical synapse...</td>\n",
              "      <td>Pannexin1 in the outer retina of the zebrafish...</td>\n",
              "      <td>2009-05-05 09:00:00</td>\n",
              "      <td>Neuroscience, Issue: 4, Volume: 162 15, Sep, 2009</td>\n",
              "      <td>Department of Neuroanatomy and Molecular Brain...</td>\n",
              "      <td>9998.0</td>\n",
              "      <td>['N Prochnow', 'S Hoffmann', 'R Vroman', 'J Kl...</td>\n",
              "    </tr>\n",
              "    <tr>\n",
              "      <th>9999</th>\n",
              "      <td>9999</td>\n",
              "      <td>NaN</td>\n",
              "      <td>[Is a symposium which has been criticized for ...</td>\n",
              "      <td>2003-07-09 05:00:00</td>\n",
              "      <td>Psychotherapie, Psychosomatik, medizinische Ps...</td>\n",
              "      <td>NaN</td>\n",
              "      <td>9999.0</td>\n",
              "      <td>['Sven Olaf Hoffmann']</td>\n",
              "    </tr>\n",
              "  </tbody>\n",
              "</table>\n",
              "<p>10000 rows × 8 columns</p>\n",
              "</div>"
            ],
            "text/plain": [
              "      temp_id  ...                                            authors\n",
              "0           0  ...  ['D Mascheroni', 'T Kolobow', 'R Fumagalli', '...\n",
              "1           1  ...  ['L Gattinoni', 'D Mascheroni', 'A Torresin', ...\n",
              "2           2  ...  ['L Gattinoni', 'A Pesenti', 'M L Caspani', 'A...\n",
              "3           3  ...  ['G Damia', 'D Mascheroni', 'M Croci', 'L Tare...\n",
              "4           4  ...  ['T Kolobow', 'L Gattinoni', 'A Pesenti', 'M S...\n",
              "...       ...  ...                                                ...\n",
              "9995     9995  ...  ['Zbigniew Polanski', 'Nami Motosugi', 'Chizuk...\n",
              "9996     9996  ...  ['A Pausch', 'St Koch', 'M Frossard', 'M Wiege...\n",
              "9997     9997  ...  ['Dieter Adelmann', 'Stefan Koch', 'Johannes M...\n",
              "9998     9998  ...  ['N Prochnow', 'S Hoffmann', 'R Vroman', 'J Kl...\n",
              "9999     9999  ...                             ['Sven Olaf Hoffmann']\n",
              "\n",
              "[10000 rows x 8 columns]"
            ]
          },
          "metadata": {
            "tags": []
          },
          "execution_count": 4
        }
      ]
    },
    {
      "cell_type": "markdown",
      "metadata": {
        "id": "J6I0AWlhnNYV"
      },
      "source": [
        "### Preprocess column with authors names"
      ]
    },
    {
      "cell_type": "code",
      "metadata": {
        "colab": {
          "base_uri": "https://localhost:8080/"
        },
        "id": "gexEWu6zfmpw",
        "outputId": "af4dde34-eabd-4a2c-bd19-4d34be1e9e7b"
      },
      "source": [
        "authors = publications_df.authors.dropna(how=\"all\")\n",
        "authors"
      ],
      "execution_count": 5,
      "outputs": [
        {
          "output_type": "execute_result",
          "data": {
            "text/plain": [
              "0       ['D Mascheroni', 'T Kolobow', 'R Fumagalli', '...\n",
              "1       ['L Gattinoni', 'D Mascheroni', 'A Torresin', ...\n",
              "2       ['L Gattinoni', 'A Pesenti', 'M L Caspani', 'A...\n",
              "3       ['G Damia', 'D Mascheroni', 'M Croci', 'L Tare...\n",
              "4       ['T Kolobow', 'L Gattinoni', 'A Pesenti', 'M S...\n",
              "                              ...                        \n",
              "9995    ['Zbigniew Polanski', 'Nami Motosugi', 'Chizuk...\n",
              "9996    ['A Pausch', 'St Koch', 'M Frossard', 'M Wiege...\n",
              "9997    ['Dieter Adelmann', 'Stefan Koch', 'Johannes M...\n",
              "9998    ['N Prochnow', 'S Hoffmann', 'R Vroman', 'J Kl...\n",
              "9999                               ['Sven Olaf Hoffmann']\n",
              "Name: authors, Length: 9893, dtype: object"
            ]
          },
          "metadata": {
            "tags": []
          },
          "execution_count": 5
        }
      ]
    },
    {
      "cell_type": "code",
      "metadata": {
        "colab": {
          "base_uri": "https://localhost:8080/"
        },
        "id": "UecM9jXMnmei",
        "outputId": "116c6d0b-db93-4a6a-cb12-8f531400a048"
      },
      "source": [
        "# Check type of data within a rows\n",
        "sample_value = authors.iloc[0]\n",
        "print(isinstance(sample_value, list))\n",
        "print(isinstance(sample_value, str))"
      ],
      "execution_count": 6,
      "outputs": [
        {
          "output_type": "stream",
          "text": [
            "False\n",
            "True\n"
          ],
          "name": "stdout"
        }
      ]
    },
    {
      "cell_type": "markdown",
      "metadata": {
        "id": "2aI5a5V0oARh"
      },
      "source": [
        "**The task is to provide unique names of authors, suggesting that the initials are not of interest to us. Although we lose some information when we get rid of them, based on this dataset, we cannot tell if John S Doe, John Sebastian Doe or John Doe are three different people. Therefore, with this step I will unify this information, assuming that my goal is only to get the names and surnames and not to find the presence of a specific researcher in the dataset.**"
      ]
    },
    {
      "cell_type": "code",
      "metadata": {
        "id": "Iy7DtuU5pYnP"
      },
      "source": [
        "def remove_initials(name):\n",
        "    \"\"\"Function takes a string as a parameter and modifies it by removing single letters\"\"\"\n",
        "    pattern = \"\\\\b[A-Z]+(?:\\\\.|\\\\s+|$)\"\n",
        "    return re.sub(pattern, \"\", name)"
      ],
      "execution_count": 7,
      "outputs": []
    },
    {
      "cell_type": "code",
      "metadata": {
        "colab": {
          "base_uri": "https://localhost:8080/",
          "height": 36
        },
        "id": "o__fZocXtliD",
        "outputId": "55725ff2-7036-4b1b-9cd5-7b8205d5582d"
      },
      "source": [
        "remove_initials(\"Christian Martin H\")"
      ],
      "execution_count": 8,
      "outputs": [
        {
          "output_type": "execute_result",
          "data": {
            "application/vnd.google.colaboratory.intrinsic+json": {
              "type": "string"
            },
            "text/plain": [
              "'Christian Martin '"
            ]
          },
          "metadata": {
            "tags": []
          },
          "execution_count": 8
        }
      ]
    },
    {
      "cell_type": "code",
      "metadata": {
        "colab": {
          "base_uri": "https://localhost:8080/"
        },
        "id": "fFe7zsb7n0sL",
        "outputId": "fb2a99aa-9d75-487f-f49c-1a54b4eb17c7"
      },
      "source": [
        "# Take list of names put each name on separate row\n",
        "unique_signatures = set(itertools.chain.from_iterable(authors.apply(lambda x: eval(x))))\n",
        "# Remove initials and normalize names by lowercasing them\n",
        "unique_signatures = list(map(remove_initials, unique_signatures))\n",
        "unique_signatures = list(map(str.lower, unique_signatures))\n",
        "# Show few examples\n",
        "random.sample(unique_signatures, 10)"
      ],
      "execution_count": 9,
      "outputs": [
        {
          "output_type": "execute_result",
          "data": {
            "text/plain": [
              "['piera anna martino',\n",
              " 'thomas gill',\n",
              " 'christopher margono',\n",
              " 'gere luder',\n",
              " 'weiqiang chen',\n",
              " 'sergey bessonov',\n",
              " 'damian lobato-marquez',\n",
              " 'enrico galmozzi',\n",
              " 'christoph auf der maur',\n",
              " 'annette schmidt']"
            ]
          },
          "metadata": {
            "tags": []
          },
          "execution_count": 9
        }
      ]
    },
    {
      "cell_type": "code",
      "metadata": {
        "colab": {
          "base_uri": "https://localhost:8080/",
          "height": 520
        },
        "id": "uLcNSuT1sDVB",
        "outputId": "da8eaf34-d12b-4374-e625-dfa793ef3bab"
      },
      "source": [
        "authors_df = pd.DataFrame(list(map(lambda x: x.rsplit(\" \", 1), list(unique_signatures))), columns=[\"name\", \"lastname\"])\n",
        "authors_df.head(15)"
      ],
      "execution_count": 10,
      "outputs": [
        {
          "output_type": "execute_result",
          "data": {
            "text/html": [
              "<div>\n",
              "<style scoped>\n",
              "    .dataframe tbody tr th:only-of-type {\n",
              "        vertical-align: middle;\n",
              "    }\n",
              "\n",
              "    .dataframe tbody tr th {\n",
              "        vertical-align: top;\n",
              "    }\n",
              "\n",
              "    .dataframe thead th {\n",
              "        text-align: right;\n",
              "    }\n",
              "</style>\n",
              "<table border=\"1\" class=\"dataframe\">\n",
              "  <thead>\n",
              "    <tr style=\"text-align: right;\">\n",
              "      <th></th>\n",
              "      <th>name</th>\n",
              "      <th>lastname</th>\n",
              "    </tr>\n",
              "  </thead>\n",
              "  <tbody>\n",
              "    <tr>\n",
              "      <th>0</th>\n",
              "      <td>settecase</td>\n",
              "      <td>None</td>\n",
              "    </tr>\n",
              "    <tr>\n",
              "      <th>1</th>\n",
              "      <td>uttara</td>\n",
              "      <td>basu</td>\n",
              "    </tr>\n",
              "    <tr>\n",
              "      <th>2</th>\n",
              "      <td>oroszlan</td>\n",
              "      <td>None</td>\n",
              "    </tr>\n",
              "    <tr>\n",
              "      <th>3</th>\n",
              "      <td>mcfall</td>\n",
              "      <td>None</td>\n",
              "    </tr>\n",
              "    <tr>\n",
              "      <th>4</th>\n",
              "      <td>victor</td>\n",
              "      <td>navia</td>\n",
              "    </tr>\n",
              "    <tr>\n",
              "      <th>5</th>\n",
              "      <td>seebass</td>\n",
              "      <td>None</td>\n",
              "    </tr>\n",
              "    <tr>\n",
              "      <th>6</th>\n",
              "      <td>tarpley</td>\n",
              "      <td>None</td>\n",
              "    </tr>\n",
              "    <tr>\n",
              "      <th>7</th>\n",
              "      <td>heiko</td>\n",
              "      <td>scholl</td>\n",
              "    </tr>\n",
              "    <tr>\n",
              "      <th>8</th>\n",
              "      <td>emma</td>\n",
              "      <td>gardner</td>\n",
              "    </tr>\n",
              "    <tr>\n",
              "      <th>9</th>\n",
              "      <td>zhijian</td>\n",
              "      <td>liu</td>\n",
              "    </tr>\n",
              "    <tr>\n",
              "      <th>10</th>\n",
              "      <td>frei</td>\n",
              "      <td>None</td>\n",
              "    </tr>\n",
              "    <tr>\n",
              "      <th>11</th>\n",
              "      <td>alejandro gomez</td>\n",
              "      <td>mejia</td>\n",
              "    </tr>\n",
              "    <tr>\n",
              "      <th>12</th>\n",
              "      <td>cortina</td>\n",
              "      <td>None</td>\n",
              "    </tr>\n",
              "    <tr>\n",
              "      <th>13</th>\n",
              "      <td>halima al</td>\n",
              "      <td>tamimi</td>\n",
              "    </tr>\n",
              "    <tr>\n",
              "      <th>14</th>\n",
              "      <td>doris</td>\n",
              "      <td>koesling</td>\n",
              "    </tr>\n",
              "  </tbody>\n",
              "</table>\n",
              "</div>"
            ],
            "text/plain": [
              "               name  lastname\n",
              "0         settecase      None\n",
              "1            uttara      basu\n",
              "2          oroszlan      None\n",
              "3            mcfall      None\n",
              "4            victor     navia\n",
              "5           seebass      None\n",
              "6           tarpley      None\n",
              "7             heiko    scholl\n",
              "8              emma   gardner\n",
              "9           zhijian       liu\n",
              "10             frei      None\n",
              "11  alejandro gomez     mejia\n",
              "12          cortina      None\n",
              "13        halima al    tamimi\n",
              "14            doris  koesling"
            ]
          },
          "metadata": {
            "tags": []
          },
          "execution_count": 10
        }
      ]
    },
    {
      "cell_type": "markdown",
      "metadata": {
        "id": "5u4scUvi5mom"
      },
      "source": [
        "Okay, so we can see that some data got corrupted during the preprocessing. This is the result of the lack of authors' names and the design decision to remove the initials from the names. Empty lines in the names column will result from situations where the author had only initials, eg G R R Martin. Empty lines in the lastname column result from writing the last name as a single letter, eg Christian Martin H.\n",
        "\n",
        "As a result, this code in some cases (where the first name is not specified or was an initial) assigns the surname as the first name. In this case, we will not consider it a problem as we want to return a list of full names and not just surnames."
      ]
    },
    {
      "cell_type": "code",
      "metadata": {
        "colab": {
          "base_uri": "https://localhost:8080/"
        },
        "id": "CQ1ffwQg6y8K",
        "outputId": "4992f53d-3cd1-458c-9c43-829325c94c9b"
      },
      "source": [
        "num_of_empty_rows = sum(authors_df.name.isin(['', None])) + sum(authors_df.lastname.isin(['', None]))\n",
        "print(f\"Number of empty names or lastnames: {num_of_empty_rows}\")"
      ],
      "execution_count": 11,
      "outputs": [
        {
          "output_type": "stream",
          "text": [
            "Number of empty names or lastnames: 12122\n"
          ],
          "name": "stdout"
        }
      ]
    },
    {
      "cell_type": "code",
      "metadata": {
        "id": "WFdJe8TM7lz7"
      },
      "source": [
        "# Clear empty or incomplete records from data\n",
        "authors_df = authors_df.mask(authors_df.eq(\"None\") | authors_df.eq(\"\")).dropna()"
      ],
      "execution_count": 12,
      "outputs": []
    },
    {
      "cell_type": "code",
      "metadata": {
        "colab": {
          "base_uri": "https://localhost:8080/"
        },
        "id": "oull5lSJ6_A4",
        "outputId": "38ddc131-eda2-4c50-c9d2-746f9c99ae76"
      },
      "source": [
        "num_of_empty_rows = sum(authors_df.name.isin(['', None])) + sum(authors_df.lastname.isin(['', None]))\n",
        "print(f\"\"\"Number of empty names or lastnames after cleaning: {num_of_empty_rows}\"\"\")"
      ],
      "execution_count": 13,
      "outputs": [
        {
          "output_type": "stream",
          "text": [
            "Number of empty names or lastnames after cleaning: 0\n"
          ],
          "name": "stdout"
        }
      ]
    },
    {
      "cell_type": "code",
      "metadata": {
        "id": "KiYF5jnCFQg0"
      },
      "source": [
        "authors_df = authors_df.drop_duplicates(subset=[\"name\", \"lastname\"])"
      ],
      "execution_count": 14,
      "outputs": []
    },
    {
      "cell_type": "code",
      "metadata": {
        "colab": {
          "base_uri": "https://localhost:8080/",
          "height": 424
        },
        "id": "D1YAVywNEMuZ",
        "outputId": "15e02973-1ce4-4203-bf08-8b5d9fb67f6c"
      },
      "source": [
        "# Create new dataframe with names grupped by lastname\n",
        "authors_groupped_df = authors_df.groupby(\"lastname\")[\"name\"].apply(list).reset_index(name=\"groupped_names\")\n",
        "authors_groupped_df"
      ],
      "execution_count": 15,
      "outputs": [
        {
          "output_type": "execute_result",
          "data": {
            "text/html": [
              "<div>\n",
              "<style scoped>\n",
              "    .dataframe tbody tr th:only-of-type {\n",
              "        vertical-align: middle;\n",
              "    }\n",
              "\n",
              "    .dataframe tbody tr th {\n",
              "        vertical-align: top;\n",
              "    }\n",
              "\n",
              "    .dataframe thead th {\n",
              "        text-align: right;\n",
              "    }\n",
              "</style>\n",
              "<table border=\"1\" class=\"dataframe\">\n",
              "  <thead>\n",
              "    <tr style=\"text-align: right;\">\n",
              "      <th></th>\n",
              "      <th>lastname</th>\n",
              "      <th>groupped_names</th>\n",
              "    </tr>\n",
              "  </thead>\n",
              "  <tbody>\n",
              "    <tr>\n",
              "      <th>0</th>\n",
              "      <td>a-brouwer</td>\n",
              "      <td>[anne-marie]</td>\n",
              "    </tr>\n",
              "    <tr>\n",
              "      <th>1</th>\n",
              "      <td>aa</td>\n",
              "      <td>[frank van der]</td>\n",
              "    </tr>\n",
              "    <tr>\n",
              "      <th>2</th>\n",
              "      <td>aalten</td>\n",
              "      <td>[pauline]</td>\n",
              "    </tr>\n",
              "    <tr>\n",
              "      <th>3</th>\n",
              "      <td>aanensen</td>\n",
              "      <td>[david]</td>\n",
              "    </tr>\n",
              "    <tr>\n",
              "      <th>4</th>\n",
              "      <td>aarab</td>\n",
              "      <td>[ghizlane]</td>\n",
              "    </tr>\n",
              "    <tr>\n",
              "      <th>...</th>\n",
              "      <td>...</td>\n",
              "      <td>...</td>\n",
              "    </tr>\n",
              "    <tr>\n",
              "      <th>23221</th>\n",
              "      <td>zwyssig</td>\n",
              "      <td>[adrian]</td>\n",
              "    </tr>\n",
              "    <tr>\n",
              "      <th>23222</th>\n",
              "      <td>zygmunt</td>\n",
              "      <td>[michel]</td>\n",
              "    </tr>\n",
              "    <tr>\n",
              "      <th>23223</th>\n",
              "      <td>zyluk</td>\n",
              "      <td>[andrzey]</td>\n",
              "    </tr>\n",
              "    <tr>\n",
              "      <th>23224</th>\n",
              "      <td>zypen</td>\n",
              "      <td>[dominic van der]</td>\n",
              "    </tr>\n",
              "    <tr>\n",
              "      <th>23225</th>\n",
              "      <td>zyriax</td>\n",
              "      <td>[birgit-christiane]</td>\n",
              "    </tr>\n",
              "  </tbody>\n",
              "</table>\n",
              "<p>23226 rows × 2 columns</p>\n",
              "</div>"
            ],
            "text/plain": [
              "        lastname       groupped_names\n",
              "0      a-brouwer         [anne-marie]\n",
              "1             aa      [frank van der]\n",
              "2         aalten            [pauline]\n",
              "3       aanensen              [david]\n",
              "4          aarab           [ghizlane]\n",
              "...          ...                  ...\n",
              "23221    zwyssig             [adrian]\n",
              "23222    zygmunt             [michel]\n",
              "23223      zyluk            [andrzey]\n",
              "23224      zypen    [dominic van der]\n",
              "23225     zyriax  [birgit-christiane]\n",
              "\n",
              "[23226 rows x 2 columns]"
            ]
          },
          "metadata": {
            "tags": []
          },
          "execution_count": 15
        }
      ]
    },
    {
      "cell_type": "code",
      "metadata": {
        "colab": {
          "base_uri": "https://localhost:8080/",
          "height": 424
        },
        "id": "9gWCZ3L7H19Y",
        "outputId": "411c659a-3854-4523-9928-d6e82c2d7733"
      },
      "source": [
        "# Show authors that share same surname\n",
        "authors_groupped_df[authors_groupped_df.groupped_names.map(len) > 1]"
      ],
      "execution_count": 16,
      "outputs": [
        {
          "output_type": "execute_result",
          "data": {
            "text/html": [
              "<div>\n",
              "<style scoped>\n",
              "    .dataframe tbody tr th:only-of-type {\n",
              "        vertical-align: middle;\n",
              "    }\n",
              "\n",
              "    .dataframe tbody tr th {\n",
              "        vertical-align: top;\n",
              "    }\n",
              "\n",
              "    .dataframe thead th {\n",
              "        text-align: right;\n",
              "    }\n",
              "</style>\n",
              "<table border=\"1\" class=\"dataframe\">\n",
              "  <thead>\n",
              "    <tr style=\"text-align: right;\">\n",
              "      <th></th>\n",
              "      <th>lastname</th>\n",
              "      <th>groupped_names</th>\n",
              "    </tr>\n",
              "  </thead>\n",
              "  <tbody>\n",
              "    <tr>\n",
              "      <th>17</th>\n",
              "      <td>abbasi</td>\n",
              "      <td>[reza, amir, zainab]</td>\n",
              "    </tr>\n",
              "    <tr>\n",
              "      <th>20</th>\n",
              "      <td>abbate</td>\n",
              "      <td>[maria ida, antonio]</td>\n",
              "    </tr>\n",
              "    <tr>\n",
              "      <th>27</th>\n",
              "      <td>abdalla</td>\n",
              "      <td>[safa, fabio, adibe]</td>\n",
              "    </tr>\n",
              "    <tr>\n",
              "      <th>48</th>\n",
              "      <td>abel</td>\n",
              "      <td>[martin, laurent, mark, steffen]</td>\n",
              "    </tr>\n",
              "    <tr>\n",
              "      <th>54</th>\n",
              "      <td>abera</td>\n",
              "      <td>[semaw, semaw ferede]</td>\n",
              "    </tr>\n",
              "    <tr>\n",
              "      <th>...</th>\n",
              "      <td>...</td>\n",
              "      <td>...</td>\n",
              "    </tr>\n",
              "    <tr>\n",
              "      <th>23157</th>\n",
              "      <td>zong</td>\n",
              "      <td>[wei-xing, xiangang]</td>\n",
              "    </tr>\n",
              "    <tr>\n",
              "      <th>23163</th>\n",
              "      <td>zorn</td>\n",
              "      <td>[gilad, aaron]</td>\n",
              "    </tr>\n",
              "    <tr>\n",
              "      <th>23172</th>\n",
              "      <td>zou</td>\n",
              "      <td>[weiping, zhengzhi, xiaonong, zhen, xiao nong]</td>\n",
              "    </tr>\n",
              "    <tr>\n",
              "      <th>23177</th>\n",
              "      <td>zschocke</td>\n",
              "      <td>[jurgen, johannes]</td>\n",
              "    </tr>\n",
              "    <tr>\n",
              "      <th>23215</th>\n",
              "      <td>zwahlen</td>\n",
              "      <td>[diana, christian, daniel]</td>\n",
              "    </tr>\n",
              "  </tbody>\n",
              "</table>\n",
              "<p>3747 rows × 2 columns</p>\n",
              "</div>"
            ],
            "text/plain": [
              "       lastname                                  groupped_names\n",
              "17       abbasi                            [reza, amir, zainab]\n",
              "20       abbate                            [maria ida, antonio]\n",
              "27      abdalla                            [safa, fabio, adibe]\n",
              "48         abel                [martin, laurent, mark, steffen]\n",
              "54        abera                           [semaw, semaw ferede]\n",
              "...         ...                                             ...\n",
              "23157      zong                            [wei-xing, xiangang]\n",
              "23163      zorn                                  [gilad, aaron]\n",
              "23172       zou  [weiping, zhengzhi, xiaonong, zhen, xiao nong]\n",
              "23177  zschocke                              [jurgen, johannes]\n",
              "23215   zwahlen                      [diana, christian, daniel]\n",
              "\n",
              "[3747 rows x 2 columns]"
            ]
          },
          "metadata": {
            "tags": []
          },
          "execution_count": 16
        }
      ]
    },
    {
      "cell_type": "markdown",
      "metadata": {
        "id": "NWPZJZwhV8Jn"
      },
      "source": [
        "Above we can see an interesting example at index 54. \n",
        "Semaw Ferede Abera and Semaw Abera are most likely the same person. We want to unify this record to be a single name. To do this, I will develop functions that will check whether the names are similar or share common parts at the beginning of each token in a sentence."
      ]
    },
    {
      "cell_type": "code",
      "metadata": {
        "id": "q55coHLsEdpx"
      },
      "source": [
        "# The function below will be useful when there are initials left in the data \n",
        "# (e.g. in the initial phase they were written with a lowercase letter) and will\n",
        "# return True in the case of checking for similarity if one of the sentences consists of two names.\n",
        "def is_abbreviation(abbrev, sentence):\n",
        "    \"\"\"Cheks if abbrev is abbreviation of a sentence\"\"\"\n",
        "    pattern = \".*\".join(abbrev)\n",
        "    return re.match(\"^\" + pattern, sentence) is not None\n",
        "\n",
        "# The function below will be useful in case the name has been spelled a bit differently.\n",
        "# For example, Andrzej and Andrzey will be treated as the same name.\n",
        "def is_similar(a, b, threshold=0.5):\n",
        "    \"\"\"Checks if sequences a and b are simmilar with some given threshold\"\"\"\n",
        "    return True if SequenceMatcher(None, a, b).ratio() > threshold else False"
      ],
      "execution_count": 17,
      "outputs": []
    },
    {
      "cell_type": "code",
      "metadata": {
        "colab": {
          "base_uri": "https://localhost:8080/"
        },
        "id": "ehfhznblEdwg",
        "outputId": "a4fded84-0a50-44d6-f5b4-8390d34caff1"
      },
      "source": [
        "def reduce_names(names):\n",
        "    \"\"\"Perform combination by pairing with element in list and \n",
        "    removing elements that are abbreviations or are similar\"\"\"\n",
        "    names_copy = names.copy()\n",
        "    for a, b in itertools.combinations(names, 2):\n",
        "        if is_abbreviation(a, b) or is_similar(a, b):\n",
        "            if a in names_copy: names_copy.remove(a)\n",
        "    \n",
        "    return names_copy\n",
        "\n",
        "# Check how does it work\n",
        "names_list = [\"Angelina\", \"Angelina X\", \"Angelina Xavier\", \"John\"]\n",
        "reduce_names(names_list)"
      ],
      "execution_count": 18,
      "outputs": [
        {
          "output_type": "execute_result",
          "data": {
            "text/plain": [
              "['Angelina Xavier', 'John']"
            ]
          },
          "metadata": {
            "tags": []
          },
          "execution_count": 18
        }
      ]
    },
    {
      "cell_type": "code",
      "metadata": {
        "colab": {
          "base_uri": "https://localhost:8080/",
          "height": 424
        },
        "id": "syDNYJxNJdkV",
        "outputId": "c144d862-f67b-47a5-bb2a-debbf2e1d019"
      },
      "source": [
        "authors_groupped_df.groupped_names = authors_groupped_df.groupped_names.apply(reduce_names)\n",
        "authors_groupped_df"
      ],
      "execution_count": 19,
      "outputs": [
        {
          "output_type": "execute_result",
          "data": {
            "text/html": [
              "<div>\n",
              "<style scoped>\n",
              "    .dataframe tbody tr th:only-of-type {\n",
              "        vertical-align: middle;\n",
              "    }\n",
              "\n",
              "    .dataframe tbody tr th {\n",
              "        vertical-align: top;\n",
              "    }\n",
              "\n",
              "    .dataframe thead th {\n",
              "        text-align: right;\n",
              "    }\n",
              "</style>\n",
              "<table border=\"1\" class=\"dataframe\">\n",
              "  <thead>\n",
              "    <tr style=\"text-align: right;\">\n",
              "      <th></th>\n",
              "      <th>lastname</th>\n",
              "      <th>groupped_names</th>\n",
              "    </tr>\n",
              "  </thead>\n",
              "  <tbody>\n",
              "    <tr>\n",
              "      <th>0</th>\n",
              "      <td>a-brouwer</td>\n",
              "      <td>[anne-marie]</td>\n",
              "    </tr>\n",
              "    <tr>\n",
              "      <th>1</th>\n",
              "      <td>aa</td>\n",
              "      <td>[frank van der]</td>\n",
              "    </tr>\n",
              "    <tr>\n",
              "      <th>2</th>\n",
              "      <td>aalten</td>\n",
              "      <td>[pauline]</td>\n",
              "    </tr>\n",
              "    <tr>\n",
              "      <th>3</th>\n",
              "      <td>aanensen</td>\n",
              "      <td>[david]</td>\n",
              "    </tr>\n",
              "    <tr>\n",
              "      <th>4</th>\n",
              "      <td>aarab</td>\n",
              "      <td>[ghizlane]</td>\n",
              "    </tr>\n",
              "    <tr>\n",
              "      <th>...</th>\n",
              "      <td>...</td>\n",
              "      <td>...</td>\n",
              "    </tr>\n",
              "    <tr>\n",
              "      <th>23221</th>\n",
              "      <td>zwyssig</td>\n",
              "      <td>[adrian]</td>\n",
              "    </tr>\n",
              "    <tr>\n",
              "      <th>23222</th>\n",
              "      <td>zygmunt</td>\n",
              "      <td>[michel]</td>\n",
              "    </tr>\n",
              "    <tr>\n",
              "      <th>23223</th>\n",
              "      <td>zyluk</td>\n",
              "      <td>[andrzey]</td>\n",
              "    </tr>\n",
              "    <tr>\n",
              "      <th>23224</th>\n",
              "      <td>zypen</td>\n",
              "      <td>[dominic van der]</td>\n",
              "    </tr>\n",
              "    <tr>\n",
              "      <th>23225</th>\n",
              "      <td>zyriax</td>\n",
              "      <td>[birgit-christiane]</td>\n",
              "    </tr>\n",
              "  </tbody>\n",
              "</table>\n",
              "<p>23226 rows × 2 columns</p>\n",
              "</div>"
            ],
            "text/plain": [
              "        lastname       groupped_names\n",
              "0      a-brouwer         [anne-marie]\n",
              "1             aa      [frank van der]\n",
              "2         aalten            [pauline]\n",
              "3       aanensen              [david]\n",
              "4          aarab           [ghizlane]\n",
              "...          ...                  ...\n",
              "23221    zwyssig             [adrian]\n",
              "23222    zygmunt             [michel]\n",
              "23223      zyluk            [andrzey]\n",
              "23224      zypen    [dominic van der]\n",
              "23225     zyriax  [birgit-christiane]\n",
              "\n",
              "[23226 rows x 2 columns]"
            ]
          },
          "metadata": {
            "tags": []
          },
          "execution_count": 19
        }
      ]
    },
    {
      "cell_type": "code",
      "metadata": {
        "id": "Wqm6gAFIbIuy"
      },
      "source": [
        "authors_cleaned_df = authors_groupped_df.explode(\"groupped_names\").rename(columns={\"groupped_names\": \"firstname\"})\n",
        "authors_cleaned_df.lastname = authors_cleaned_df.lastname.apply(str.capitalize)\n",
        "authors_cleaned_df.firstname = authors_cleaned_df.firstname.apply(lambda x: x.replace(\"-\", \" \")).apply(str.capitalize)"
      ],
      "execution_count": 20,
      "outputs": []
    },
    {
      "cell_type": "code",
      "metadata": {
        "colab": {
          "base_uri": "https://localhost:8080/",
          "height": 363
        },
        "id": "N9TmIZU8b_j8",
        "outputId": "6d663bfc-70ba-41d7-afa9-84e31dbf5c93"
      },
      "source": [
        "authors_cleaned_df[[\"firstname\", \"lastname\"]].sample(10)"
      ],
      "execution_count": 21,
      "outputs": [
        {
          "output_type": "execute_result",
          "data": {
            "text/html": [
              "<div>\n",
              "<style scoped>\n",
              "    .dataframe tbody tr th:only-of-type {\n",
              "        vertical-align: middle;\n",
              "    }\n",
              "\n",
              "    .dataframe tbody tr th {\n",
              "        vertical-align: top;\n",
              "    }\n",
              "\n",
              "    .dataframe thead th {\n",
              "        text-align: right;\n",
              "    }\n",
              "</style>\n",
              "<table border=\"1\" class=\"dataframe\">\n",
              "  <thead>\n",
              "    <tr style=\"text-align: right;\">\n",
              "      <th></th>\n",
              "      <th>firstname</th>\n",
              "      <th>lastname</th>\n",
              "    </tr>\n",
              "  </thead>\n",
              "  <tbody>\n",
              "    <tr>\n",
              "      <th>14357</th>\n",
              "      <td>Mohammad</td>\n",
              "      <td>Motazacker</td>\n",
              "    </tr>\n",
              "    <tr>\n",
              "      <th>12228</th>\n",
              "      <td>Deborah</td>\n",
              "      <td>Locarno</td>\n",
              "    </tr>\n",
              "    <tr>\n",
              "      <th>21969</th>\n",
              "      <td>David</td>\n",
              "      <td>Vocadlo</td>\n",
              "    </tr>\n",
              "    <tr>\n",
              "      <th>2729</th>\n",
              "      <td>Caterina</td>\n",
              "      <td>Branca</td>\n",
              "    </tr>\n",
              "    <tr>\n",
              "      <th>21250</th>\n",
              "      <td>Yi ting</td>\n",
              "      <td>Tsai</td>\n",
              "    </tr>\n",
              "    <tr>\n",
              "      <th>17857</th>\n",
              "      <td>Patrizia</td>\n",
              "      <td>Rovere-querini</td>\n",
              "    </tr>\n",
              "    <tr>\n",
              "      <th>8109</th>\n",
              "      <td>Theresa</td>\n",
              "      <td>Gross</td>\n",
              "    </tr>\n",
              "    <tr>\n",
              "      <th>17711</th>\n",
              "      <td>Montserrat</td>\n",
              "      <td>Romero</td>\n",
              "    </tr>\n",
              "    <tr>\n",
              "      <th>13348</th>\n",
              "      <td>Addison</td>\n",
              "      <td>May</td>\n",
              "    </tr>\n",
              "    <tr>\n",
              "      <th>21065</th>\n",
              "      <td>Claudia</td>\n",
              "      <td>Torre</td>\n",
              "    </tr>\n",
              "  </tbody>\n",
              "</table>\n",
              "</div>"
            ],
            "text/plain": [
              "        firstname        lastname\n",
              "14357    Mohammad      Motazacker\n",
              "12228     Deborah         Locarno\n",
              "21969       David         Vocadlo\n",
              "2729     Caterina          Branca\n",
              "21250     Yi ting            Tsai\n",
              "17857    Patrizia  Rovere-querini\n",
              "8109      Theresa           Gross\n",
              "17711  Montserrat          Romero\n",
              "13348     Addison             May\n",
              "21065     Claudia           Torre"
            ]
          },
          "metadata": {
            "tags": []
          },
          "execution_count": 21
        }
      ]
    },
    {
      "cell_type": "code",
      "metadata": {
        "id": "k46P7SaxIYbf"
      },
      "source": [
        "authors_cleaned_df[[\"firstname\", \"lastname\"]].to_csv(\"./unique_people.csv\", index=False)"
      ],
      "execution_count": 22,
      "outputs": []
    },
    {
      "cell_type": "code",
      "metadata": {
        "id": "I_SrtTXoesHG"
      },
      "source": [
        "# Get 20 most popular names from dataset\n",
        "most_popular_records = authors_cleaned_df.firstname.value_counts()[:20]\n",
        "names = most_popular_records.index.tolist()\n",
        "values = most_popular_records.values"
      ],
      "execution_count": 23,
      "outputs": []
    },
    {
      "cell_type": "code",
      "metadata": {
        "colab": {
          "base_uri": "https://localhost:8080/",
          "height": 438
        },
        "id": "MhFYT23IdcZA",
        "outputId": "f2a31d90-eb91-4836-9146-d9cdf1ea19ac"
      },
      "source": [
        "authors_cleaned_df.lastname.value_counts()\n",
        "\n",
        "plt.figure(figsize=(12,6))\n",
        "plt.xticks(rotation=45)\n",
        "sns.barplot(x=names, y=values)\n",
        "plt.title(\"20 most popular names within dataset\")\n",
        "plt.ylabel(\"Number of Occurrences\", fontsize=12)\n",
        "plt.xlabel(\"Name\", fontsize=12)\n",
        "plt.show()"
      ],
      "execution_count": 24,
      "outputs": [
        {
          "output_type": "display_data",
          "data": {
            "image/png": "[encoded data removed]",
            "text/plain": [
              "<Figure size 864x432 with 1 Axes>"
            ]
          },
          "metadata": {
            "tags": [],
            "needs_background": "light"
          }
        }
      ]
    },
    {
      "cell_type": "markdown",
      "metadata": {
        "id": "XQ5MTvm_pq5h"
      },
      "source": [
        "## Preprocess column with affiliations"
      ]
    },
    {
      "cell_type": "markdown",
      "metadata": {
        "id": "ccqFHLrpF_fj"
      },
      "source": [
        "**Basically, I was not sure if this part of the task is actually required, as it is mentioned in its content, but the exemplary output suggests that only the names of the researchers need to be extracted.**\n",
        "\n",
        "**Additionally, carrying out both tasks satisfactorily would require exceeding the time allotted for the task ~ 4 hours. So I proposed a solution that sets a list of unique institutions, but contains several problems that should be worked on, devoting more time to it (e.g. often the name of the institution is the scientist's email or only the city in which he works).**"
      ]
    },
    {
      "cell_type": "code",
      "metadata": {
        "colab": {
          "base_uri": "https://localhost:8080/"
        },
        "id": "MIIv8eQtgONX",
        "outputId": "43df2670-4c75-4dce-cf9f-724ff0dbdea8"
      },
      "source": [
        "affiliations = publications_df.affiliations.dropna(how=\"all\")\n",
        "affiliations"
      ],
      "execution_count": 25,
      "outputs": [
        {
          "output_type": "execute_result",
          "data": {
            "text/plain": [
              "0       National Institutes of Health, Laboratory of T...\n",
              "1                                      , , , , , , , , , \n",
              "2                                      , , , , , , , , , \n",
              "3       Istituto di Anestesiologia e Rianimazione, Uni...\n",
              "4                                        , , , , , , , , \n",
              "                              ...                        \n",
              "9994    Riley Child Development Center, Department of ...\n",
              "9995    Department of Developmental Biology, Max Planc...\n",
              "9996    Vienna, Austria., Vienna, Austria., Vienna, Au...\n",
              "9997    Division of Cardiac Thoracic Vascular Anesthes...\n",
              "9998    Department of Neuroanatomy and Molecular Brain...\n",
              "Name: affiliations, Length: 9506, dtype: object"
            ]
          },
          "metadata": {
            "tags": []
          },
          "execution_count": 25
        }
      ]
    },
    {
      "cell_type": "code",
      "metadata": {
        "id": "5kUUHl3yk5sa"
      },
      "source": [
        "# Remove non alpahnumeric characters\n",
        "affiliations_temp = affiliations.apply(strip_non_alphanum)\n",
        "# Empty spaces are the leftovers from empty records like ', , ,'\n",
        "affiliations = affiliations[affiliations_temp[~affiliations_temp.str.isspace()].index]"
      ],
      "execution_count": 26,
      "outputs": []
    },
    {
      "cell_type": "code",
      "metadata": {
        "colab": {
          "base_uri": "https://localhost:8080/"
        },
        "id": "N4sXFh0p9kPE",
        "outputId": "364bd657-6876-496b-c1c4-e1b443f8fc7c"
      },
      "source": [
        "affiliations"
      ],
      "execution_count": 27,
      "outputs": [
        {
          "output_type": "execute_result",
          "data": {
            "text/plain": [
              "0       National Institutes of Health, Laboratory of T...\n",
              "3       Istituto di Anestesiologia e Rianimazione, Uni...\n",
              "5       Istituto di Anestesiologia e Rianimazione, Uni...\n",
              "7       Istituto Nazionale Genetica Molecolare, Milano...\n",
              "9       Istituto di Anestesiologia e Rianimazione, IRC...\n",
              "                              ...                        \n",
              "9994    Riley Child Development Center, Department of ...\n",
              "9995    Department of Developmental Biology, Max Planc...\n",
              "9996    Vienna, Austria., Vienna, Austria., Vienna, Au...\n",
              "9997    Division of Cardiac Thoracic Vascular Anesthes...\n",
              "9998    Department of Neuroanatomy and Molecular Brain...\n",
              "Name: affiliations, Length: 8138, dtype: object"
            ]
          },
          "metadata": {
            "tags": []
          },
          "execution_count": 27
        }
      ]
    },
    {
      "cell_type": "code",
      "metadata": {
        "id": "00MwJXFe9h3R"
      },
      "source": [
        "def split_by_country(institutes):\n",
        "    \"\"\"Takes string and splits it in a place where there is country name with a single dot\"\"\"\n",
        "    countries = [country.name for country in pycountry.countries if country.name in institutes]\n",
        "\n",
        "    institutes = [institutes]\n",
        "    for country in countries:\n",
        "        institutes = [text.split(country + \".\") for text in institutes]\n",
        "        institutes = sum(institutes, [])\n",
        "\n",
        "    return institutes\n",
        "\n",
        "\n",
        "def unify_institutions(institutes):\n",
        "    \"\"\"Takes institutions name form list of strings in format: Institution Name, Some info, Some info, Country.\"\"\"\n",
        "    countries = [country.name for country in pycountry.countries if country.name in institutes]\n",
        "\n",
        "    institutes = split_by_country(institutes)\n",
        "\n",
        "    # Remove commas at the beggining of each line after splitting by country\n",
        "    for institute in institutes:\n",
        "        institutes = ['\\n'.join(i.lstrip(', ') for i in institute.splitlines()) for institute in institutes]\n",
        "\n",
        "    # Get rid of empty strings in list\n",
        "    institutes = list(filter(None, institutes))\n",
        "    # Take only insitution name and throw away rest of informations (controversial!)\n",
        "    institutes = [institute.split(\", \", 1) for institute in institutes]\n",
        "    _ = [institute.pop() for institute in institutes]\n",
        "    # Flatten list\n",
        "    institutes = list(itertools.chain.from_iterable(institutes))\n",
        "\n",
        "    return institutes"
      ],
      "execution_count": 28,
      "outputs": []
    },
    {
      "cell_type": "code",
      "metadata": {
        "id": "MclG-2F2t7DY",
        "colab": {
          "base_uri": "https://localhost:8080/"
        },
        "outputId": "703f4a01-5238-4215-c878-31fdf2560c4a"
      },
      "source": [
        "# Example\n",
        "text = affiliations[224]\n",
        "print(text)\n",
        "print(unify_institutions(text))"
      ],
      "execution_count": 29,
      "outputs": [
        {
          "output_type": "stream",
          "text": [
            "ETH Zurich, Department of Health Science and Technology, Institute of Food, Nutrition and Health, Laboratory of Human Nutrition, Zurich, Switzerland nicole.stoffel@hest.ethz.ch., ETH Zurich, Department of Health Science and Technology, Institute of Food, Nutrition and Health, Laboratory of Human Nutrition, Zurich, Switzerland., Columbia University, Department of Pediatrics, College of Physicians and Surgeons, New York, NY, USA., ETH Zurich, Department of Health Science and Technology, Institute of Food, Nutrition and Health, Laboratory of Human Nutrition, Zurich, Switzerland., ETH Zurich, Department of Health Science and Technology, Institute of Food, Nutrition and Health, Laboratory of Human Nutrition, Zurich, Switzerland.\n",
            "['ETH Zurich', 'Columbia University', 'ETH Zurich']\n"
          ],
          "name": "stdout"
        }
      ]
    },
    {
      "cell_type": "code",
      "metadata": {
        "id": "lv9jDzgS__yV"
      },
      "source": [
        "affiliations = affiliations.apply(unify_institutions)"
      ],
      "execution_count": 30,
      "outputs": []
    },
    {
      "cell_type": "code",
      "metadata": {
        "colab": {
          "base_uri": "https://localhost:8080/",
          "height": 363
        },
        "id": "iM6ZQuCIDGE2",
        "outputId": "ba6ae4f4-68ef-4f73-b442-6daebd4ff1b2"
      },
      "source": [
        "institutions_df = pd.DataFrame(affiliations.explode().unique(), columns=[\"institution\"]).dropna()\n",
        "institutions_df = institutions_df.sort_values(by=\"institution\")\n",
        "institutions_df.sample(10)"
      ],
      "execution_count": 31,
      "outputs": [
        {
          "output_type": "execute_result",
          "data": {
            "text/html": [
              "<div>\n",
              "<style scoped>\n",
              "    .dataframe tbody tr th:only-of-type {\n",
              "        vertical-align: middle;\n",
              "    }\n",
              "\n",
              "    .dataframe tbody tr th {\n",
              "        vertical-align: top;\n",
              "    }\n",
              "\n",
              "    .dataframe thead th {\n",
              "        text-align: right;\n",
              "    }\n",
              "</style>\n",
              "<table border=\"1\" class=\"dataframe\">\n",
              "  <thead>\n",
              "    <tr style=\"text-align: right;\">\n",
              "      <th></th>\n",
              "      <th>institution</th>\n",
              "    </tr>\n",
              "  </thead>\n",
              "  <tbody>\n",
              "    <tr>\n",
              "      <th>9418</th>\n",
              "      <td>Division of Medicinal Chemistry</td>\n",
              "    </tr>\n",
              "    <tr>\n",
              "      <th>10348</th>\n",
              "      <td>Department of Neuropsychology and Psychopharma...</td>\n",
              "    </tr>\n",
              "    <tr>\n",
              "      <th>8794</th>\n",
              "      <td>Penn Medicine Lancaster General Hospital and P...</td>\n",
              "    </tr>\n",
              "    <tr>\n",
              "      <th>7938</th>\n",
              "      <td>Service of Immunology and Allergology</td>\n",
              "    </tr>\n",
              "    <tr>\n",
              "      <th>10321</th>\n",
              "      <td>Mississippi State University</td>\n",
              "    </tr>\n",
              "    <tr>\n",
              "      <th>502</th>\n",
              "      <td>caterina.cascini91@gmail.com.</td>\n",
              "    </tr>\n",
              "    <tr>\n",
              "      <th>7947</th>\n",
              "      <td>Hopital A Mignot - Centre Hospitalier de Versa...</td>\n",
              "    </tr>\n",
              "    <tr>\n",
              "      <th>10933</th>\n",
              "      <td>johann.reisinger@bhs.at</td>\n",
              "    </tr>\n",
              "    <tr>\n",
              "      <th>1419</th>\n",
              "      <td>Institute of Structural Biology</td>\n",
              "    </tr>\n",
              "    <tr>\n",
              "      <th>2351</th>\n",
              "      <td>Electronic address: stefanie.kraemer@pharma.et...</td>\n",
              "    </tr>\n",
              "  </tbody>\n",
              "</table>\n",
              "</div>"
            ],
            "text/plain": [
              "                                             institution\n",
              "9418                     Division of Medicinal Chemistry\n",
              "10348  Department of Neuropsychology and Psychopharma...\n",
              "8794   Penn Medicine Lancaster General Hospital and P...\n",
              "7938               Service of Immunology and Allergology\n",
              "10321                       Mississippi State University\n",
              "502                        caterina.cascini91@gmail.com.\n",
              "7947   Hopital A Mignot - Centre Hospitalier de Versa...\n",
              "10933                            johann.reisinger@bhs.at\n",
              "1419                     Institute of Structural Biology\n",
              "2351   Electronic address: stefanie.kraemer@pharma.et..."
            ]
          },
          "metadata": {
            "tags": []
          },
          "execution_count": 31
        }
      ]
    },
    {
      "cell_type": "code",
      "metadata": {
        "id": "KgMcqqdJD43m"
      },
      "source": [
        "institutions_df.to_csv(\"./unique_institutions.csv\", index=False)"
      ],
      "execution_count": 32,
      "outputs": []
    },
    {
      "cell_type": "code",
      "metadata": {
        "id": "Bo17djatJlb9"
      },
      "source": [
        ""
      ],
      "execution_count": 32,
      "outputs": []
    }
  ]
}